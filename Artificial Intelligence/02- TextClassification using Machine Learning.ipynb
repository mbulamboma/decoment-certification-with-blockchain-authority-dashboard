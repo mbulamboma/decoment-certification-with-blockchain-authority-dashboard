{
 "cells": [
  {
   "cell_type": "code",
   "execution_count": 24,
   "id": "2bce24e4",
   "metadata": {
    "id": "2bce24e4"
   },
   "outputs": [],
   "source": [
    "import numpy as np\n",
    "import pandas as pd\n",
    "from sklearn.ensemble import RandomForestClassifier\n",
    "from sklearn.neighbors import KNeighborsClassifier\n",
    "from sklearn.tree import DecisionTreeClassifier\n",
    "from sklearn.preprocessing import PolynomialFeatures\n",
    "from sklearn.model_selection import train_test_split\n",
    "import numpy as np\n",
    "from sklearn.model_selection import GridSearchCV\n",
    "import matplotlib.pyplot as plt\n",
    "from sklearn.ensemble import GradientBoostingRegressor\n",
    "from sklearn.linear_model import LinearRegression, SGDRegressor\n",
    "from sklearn.neural_network import MLPClassifier\n",
    "from sklearn.linear_model import LogisticRegression\n",
    "# import xgboost as xgb\n",
    "from sklearn.metrics import accuracy_score\n",
    "from sklearn.metrics import confusion_matrix\n",
    "from sklearn.ensemble import RandomForestRegressor\n",
    "from sklearn.model_selection import GridSearchCV\n",
    "from sklearn.preprocessing import MinMaxScaler\n",
    "from sklearn.metrics import classification_report, confusion_matrix\n",
    "import pickle\n",
    "from sklearn.naive_bayes import GaussianNB\n",
    "# import json\n",
    "\n",
    "# import websocket"
   ]
  },
  {
   "cell_type": "code",
   "execution_count": 25,
   "id": "3e547a5e",
   "metadata": {
    "id": "3e547a5e",
    "outputId": "ea855db6-1642-4947-e325-a1038aa3fde9"
   },
   "outputs": [
    {
     "data": {
      "text/html": [
       "<div>\n",
       "<style scoped>\n",
       "    .dataframe tbody tr th:only-of-type {\n",
       "        vertical-align: middle;\n",
       "    }\n",
       "\n",
       "    .dataframe tbody tr th {\n",
       "        vertical-align: top;\n",
       "    }\n",
       "\n",
       "    .dataframe thead th {\n",
       "        text-align: right;\n",
       "    }\n",
       "</style>\n",
       "<table border=\"1\" class=\"dataframe\">\n",
       "  <thead>\n",
       "    <tr style=\"text-align: right;\">\n",
       "      <th></th>\n",
       "      <th>doc</th>\n",
       "      <th>label</th>\n",
       "    </tr>\n",
       "  </thead>\n",
       "  <tbody>\n",
       "    <tr>\n",
       "      <th>34884</th>\n",
       "      <td>NOUS SOUSSIGNES, MEMBRES DU JURY DE L’EXAMEN ...</td>\n",
       "      <td>1</td>\n",
       "    </tr>\n",
       "    <tr>\n",
       "      <th>559</th>\n",
       "      <td>NOUS SOUSSIGNES, MEMBRES DU JURY DE L’EXAMEN ...</td>\n",
       "      <td>1</td>\n",
       "    </tr>\n",
       "    <tr>\n",
       "      <th>4611</th>\n",
       "      <td>NOUS SOUSSIGNES, MEMBRES DU JURY DE L’EXAMEN ...</td>\n",
       "      <td>1</td>\n",
       "    </tr>\n",
       "    <tr>\n",
       "      <th>10298</th>\n",
       "      <td>NOUS SOUSSIGNES, MEMBRES DU JURY DE L’EXAMEN ...</td>\n",
       "      <td>1</td>\n",
       "    </tr>\n",
       "    <tr>\n",
       "      <th>18553</th>\n",
       "      <td>NOUS SOUSSIGNES, MEMBRES DU JURY DE L’EXAMEN ...</td>\n",
       "      <td>1</td>\n",
       "    </tr>\n",
       "  </tbody>\n",
       "</table>\n",
       "</div>"
      ],
      "text/plain": [
       "                                                     doc  label\n",
       "34884   NOUS SOUSSIGNES, MEMBRES DU JURY DE L’EXAMEN ...      1\n",
       "559     NOUS SOUSSIGNES, MEMBRES DU JURY DE L’EXAMEN ...      1\n",
       "4611    NOUS SOUSSIGNES, MEMBRES DU JURY DE L’EXAMEN ...      1\n",
       "10298   NOUS SOUSSIGNES, MEMBRES DU JURY DE L’EXAMEN ...      1\n",
       "18553   NOUS SOUSSIGNES, MEMBRES DU JURY DE L’EXAMEN ...      1"
      ]
     },
     "execution_count": 25,
     "metadata": {},
     "output_type": "execute_result"
    }
   ],
   "source": [
    " # Load data and set labels\n",
    "data_positive = pd.read_csv('data/positive.csv', header=None)\n",
    "column_labels = ['doc']\n",
    "data_positive.columns = column_labels\n",
    "data_positive['label'] = 1\n",
    "\n",
    "\n",
    "# Display 5 random samples\n",
    "data_positive.sample(5)"
   ]
  },
  {
   "cell_type": "code",
   "execution_count": 26,
   "id": "2fd86b25",
   "metadata": {
    "id": "2fd86b25",
    "outputId": "64b63723-c34e-4899-9329-714de54efe1a"
   },
   "outputs": [
    {
     "data": {
      "text/html": [
       "<div>\n",
       "<style scoped>\n",
       "    .dataframe tbody tr th:only-of-type {\n",
       "        vertical-align: middle;\n",
       "    }\n",
       "\n",
       "    .dataframe tbody tr th {\n",
       "        vertical-align: top;\n",
       "    }\n",
       "\n",
       "    .dataframe thead th {\n",
       "        text-align: right;\n",
       "    }\n",
       "</style>\n",
       "<table border=\"1\" class=\"dataframe\">\n",
       "  <thead>\n",
       "    <tr style=\"text-align: right;\">\n",
       "      <th></th>\n",
       "      <th>doc</th>\n",
       "      <th>label</th>\n",
       "    </tr>\n",
       "  </thead>\n",
       "  <tbody>\n",
       "    <tr>\n",
       "      <th>4993</th>\n",
       "      <td>NOUS SOUSSIGNES, MEMBRES DU JURY DE L’EXAMEN ...</td>\n",
       "      <td>0</td>\n",
       "    </tr>\n",
       "    <tr>\n",
       "      <th>1172</th>\n",
       "      <td>NOUS SOUSSIGNES, MEMBRES DU JURY DE L’EXAMEN ...</td>\n",
       "      <td>0</td>\n",
       "    </tr>\n",
       "    <tr>\n",
       "      <th>2056</th>\n",
       "      <td>NOUS SOUSSIGNES, MEMBRES DU JURY DE L’EXAMEN ...</td>\n",
       "      <td>0</td>\n",
       "    </tr>\n",
       "    <tr>\n",
       "      <th>4682</th>\n",
       "      <td>NOUS SOUSSIGNES, MEMBRES DU JURY DE L’EXAMEN ...</td>\n",
       "      <td>0</td>\n",
       "    </tr>\n",
       "    <tr>\n",
       "      <th>1375</th>\n",
       "      <td>NOUS SOUSSIGNES, MEMBRES DU JURY DE L’EXAMEN ...</td>\n",
       "      <td>0</td>\n",
       "    </tr>\n",
       "  </tbody>\n",
       "</table>\n",
       "</div>"
      ],
      "text/plain": [
       "                                                    doc  label\n",
       "4993   NOUS SOUSSIGNES, MEMBRES DU JURY DE L’EXAMEN ...      0\n",
       "1172   NOUS SOUSSIGNES, MEMBRES DU JURY DE L’EXAMEN ...      0\n",
       "2056   NOUS SOUSSIGNES, MEMBRES DU JURY DE L’EXAMEN ...      0\n",
       "4682   NOUS SOUSSIGNES, MEMBRES DU JURY DE L’EXAMEN ...      0\n",
       "1375   NOUS SOUSSIGNES, MEMBRES DU JURY DE L’EXAMEN ...      0"
      ]
     },
     "execution_count": 26,
     "metadata": {},
     "output_type": "execute_result"
    }
   ],
   "source": [
    "data_negative1 = pd.read_csv('data/negative-1.csv')\n",
    "data_negative1.columns = column_labels\n",
    "data_negative1['label'] = 0\n",
    "\n",
    "data_negative1.sample(5)"
   ]
  },
  {
   "cell_type": "code",
   "execution_count": 27,
   "id": "1e1bf555",
   "metadata": {
    "id": "1e1bf555",
    "outputId": "d4e1c423-1cfa-48d4-bd69-5777d49ee898"
   },
   "outputs": [
    {
     "data": {
      "text/html": [
       "<div>\n",
       "<style scoped>\n",
       "    .dataframe tbody tr th:only-of-type {\n",
       "        vertical-align: middle;\n",
       "    }\n",
       "\n",
       "    .dataframe tbody tr th {\n",
       "        vertical-align: top;\n",
       "    }\n",
       "\n",
       "    .dataframe thead th {\n",
       "        text-align: right;\n",
       "    }\n",
       "</style>\n",
       "<table border=\"1\" class=\"dataframe\">\n",
       "  <thead>\n",
       "    <tr style=\"text-align: right;\">\n",
       "      <th></th>\n",
       "      <th>doc</th>\n",
       "      <th>label</th>\n",
       "    </tr>\n",
       "  </thead>\n",
       "  <tbody>\n",
       "    <tr>\n",
       "      <th>1185</th>\n",
       "      <td>The abrupt ghost strikes poverty.The gamy lig...</td>\n",
       "      <td>0</td>\n",
       "    </tr>\n",
       "    <tr>\n",
       "      <th>696</th>\n",
       "      <td>The painstaking vet introduces industrializat...</td>\n",
       "      <td>0</td>\n",
       "    </tr>\n",
       "    <tr>\n",
       "      <th>2260</th>\n",
       "      <td>The productive mug juggles aquarium.The null ...</td>\n",
       "      <td>0</td>\n",
       "    </tr>\n",
       "    <tr>\n",
       "      <th>818</th>\n",
       "      <td>The aback portion pumps veldt.The petite cake...</td>\n",
       "      <td>0</td>\n",
       "    </tr>\n",
       "    <tr>\n",
       "      <th>2600</th>\n",
       "      <td>The exultant winner evaluates sponge.The holl...</td>\n",
       "      <td>0</td>\n",
       "    </tr>\n",
       "  </tbody>\n",
       "</table>\n",
       "</div>"
      ],
      "text/plain": [
       "                                                    doc  label\n",
       "1185   The abrupt ghost strikes poverty.The gamy lig...      0\n",
       "696    The painstaking vet introduces industrializat...      0\n",
       "2260   The productive mug juggles aquarium.The null ...      0\n",
       "818    The aback portion pumps veldt.The petite cake...      0\n",
       "2600   The exultant winner evaluates sponge.The holl...      0"
      ]
     },
     "execution_count": 27,
     "metadata": {},
     "output_type": "execute_result"
    }
   ],
   "source": [
    "data_negative2 = pd.read_csv('data/negative-2.csv')\n",
    "data_negative2.columns = column_labels\n",
    "data_negative2['label'] = 0\n",
    "\n",
    "data_negative3 = pd.read_csv('data/negative-3.csv')\n",
    "data_negative3.columns = column_labels\n",
    "data_negative3['label'] = 0\n",
    " \n",
    "\n",
    "data_negative5 = pd.read_csv('data/negative-5.csv')\n",
    "data_negative5.columns = column_labels\n",
    "data_negative5['label'] = 0\n",
    "\n",
    "\n",
    "data_negative6 = pd.read_csv('data/negative-6.csv')\n",
    "data_negative6.columns = column_labels\n",
    "data_negative6['label'] = 0\n",
    "\n",
    "data_negative7 = pd.read_csv('data/negative-7.csv')\n",
    "data_negative7.columns = column_labels\n",
    "data_negative7['label'] = 0\n",
    "\n",
    "data_negative8 = pd.read_csv('data/negative-8.csv')\n",
    "data_negative8.columns = column_labels\n",
    "data_negative8['label'] = 0\n",
    "\n",
    "data_negative9 = pd.read_csv('data/negative-9.csv')\n",
    "data_negative9.columns = column_labels\n",
    "data_negative9['label'] = 0\n",
    "\n",
    "data_negative9.sample(5)"
   ]
  },
  {
   "cell_type": "code",
   "execution_count": 28,
   "id": "9b779888",
   "metadata": {
    "id": "9b779888"
   },
   "outputs": [],
   "source": [
    "# Concatenate complaining and non-complaining data\n",
    "data = pd.concat([data_positive, data_negative1, data_negative2, data_negative3, data_negative5, data_negative6, data_negative7, data_negative8, data_negative9], axis=0).reset_index(drop=True)"
   ]
  },
  {
   "cell_type": "code",
   "execution_count": 29,
   "id": "b20f5d6c",
   "metadata": {
    "id": "b20f5d6c",
    "outputId": "5d52c3b7-9522-4d22-ff99-1cc94d57b4fe"
   },
   "outputs": [
    {
     "data": {
      "text/html": [
       "<div>\n",
       "<style scoped>\n",
       "    .dataframe tbody tr th:only-of-type {\n",
       "        vertical-align: middle;\n",
       "    }\n",
       "\n",
       "    .dataframe tbody tr th {\n",
       "        vertical-align: top;\n",
       "    }\n",
       "\n",
       "    .dataframe thead th {\n",
       "        text-align: right;\n",
       "    }\n",
       "</style>\n",
       "<table border=\"1\" class=\"dataframe\">\n",
       "  <thead>\n",
       "    <tr style=\"text-align: right;\">\n",
       "      <th></th>\n",
       "      <th>doc</th>\n",
       "      <th>label</th>\n",
       "    </tr>\n",
       "  </thead>\n",
       "  <tbody>\n",
       "    <tr>\n",
       "      <th>34789</th>\n",
       "      <td>NOUS SOUSSIGNES, MEMBRES DU JURY DE L’EXAMEN ...</td>\n",
       "      <td>1</td>\n",
       "    </tr>\n",
       "    <tr>\n",
       "      <th>20700</th>\n",
       "      <td>NOUS SOUSSIGNES, MEMBRES DU JURY DE L’EXAMEN ...</td>\n",
       "      <td>1</td>\n",
       "    </tr>\n",
       "    <tr>\n",
       "      <th>3132</th>\n",
       "      <td>NOUS SOUSSIGNES, MEMBRES DU JURY DE L’EXAMEN ...</td>\n",
       "      <td>1</td>\n",
       "    </tr>\n",
       "    <tr>\n",
       "      <th>63200</th>\n",
       "      <td>NOUS SOUSSIGNES, MEMBRES DU JURY DE L’EXAMEN ...</td>\n",
       "      <td>0</td>\n",
       "    </tr>\n",
       "    <tr>\n",
       "      <th>313</th>\n",
       "      <td>NOUS SOUSSIGNES, MEMBRES DU JURY DE L’EXAMEN ...</td>\n",
       "      <td>1</td>\n",
       "    </tr>\n",
       "  </tbody>\n",
       "</table>\n",
       "</div>"
      ],
      "text/plain": [
       "                                                     doc  label\n",
       "34789   NOUS SOUSSIGNES, MEMBRES DU JURY DE L’EXAMEN ...      1\n",
       "20700   NOUS SOUSSIGNES, MEMBRES DU JURY DE L’EXAMEN ...      1\n",
       "3132    NOUS SOUSSIGNES, MEMBRES DU JURY DE L’EXAMEN ...      1\n",
       "63200   NOUS SOUSSIGNES, MEMBRES DU JURY DE L’EXAMEN ...      0\n",
       "313     NOUS SOUSSIGNES, MEMBRES DU JURY DE L’EXAMEN ...      1"
      ]
     },
     "execution_count": 29,
     "metadata": {},
     "output_type": "execute_result"
    }
   ],
   "source": [
    "# Display 5 random samples\n",
    "data.sample(5)"
   ]
  },
  {
   "cell_type": "code",
   "execution_count": 30,
   "id": "184e9246",
   "metadata": {},
   "outputs": [
    {
     "data": {
      "text/plain": [
       "159984"
      ]
     },
     "execution_count": 30,
     "metadata": {},
     "output_type": "execute_result"
    }
   ],
   "source": [
    "data.size"
   ]
  },
  {
   "cell_type": "code",
   "execution_count": 31,
   "id": "f163dd33",
   "metadata": {},
   "outputs": [],
   "source": [
    "data = data.sample(frac=1).reset_index(drop=True)"
   ]
  },
  {
   "cell_type": "code",
   "execution_count": 32,
   "id": "f9fd8888",
   "metadata": {},
   "outputs": [],
   "source": [
    "sampled_df = data.sample(frac=0.2) #let's take 32000 sample only for training"
   ]
  },
  {
   "cell_type": "code",
   "execution_count": 33,
   "id": "d612a861",
   "metadata": {},
   "outputs": [
    {
     "data": {
      "text/html": [
       "<div>\n",
       "<style scoped>\n",
       "    .dataframe tbody tr th:only-of-type {\n",
       "        vertical-align: middle;\n",
       "    }\n",
       "\n",
       "    .dataframe tbody tr th {\n",
       "        vertical-align: top;\n",
       "    }\n",
       "\n",
       "    .dataframe thead th {\n",
       "        text-align: right;\n",
       "    }\n",
       "</style>\n",
       "<table border=\"1\" class=\"dataframe\">\n",
       "  <thead>\n",
       "    <tr style=\"text-align: right;\">\n",
       "      <th></th>\n",
       "      <th>doc</th>\n",
       "      <th>label</th>\n",
       "    </tr>\n",
       "  </thead>\n",
       "  <tbody>\n",
       "    <tr>\n",
       "      <th>33188</th>\n",
       "      <td>NOUS SOUSSIGNES, MEMBRES DU JURY DE L’EXAMEN ...</td>\n",
       "      <td>1</td>\n",
       "    </tr>\n",
       "    <tr>\n",
       "      <th>18375</th>\n",
       "      <td>PAR ORDONNANCE N° 88-092 DU 07 JUILLET 1998 ; ...</td>\n",
       "      <td>0</td>\n",
       "    </tr>\n",
       "    <tr>\n",
       "      <th>6611</th>\n",
       "      <td>NOUS SOUSSIGNES, MEMBRES DU JURY DE L’EXAMEN ...</td>\n",
       "      <td>0</td>\n",
       "    </tr>\n",
       "  </tbody>\n",
       "</table>\n",
       "</div>"
      ],
      "text/plain": [
       "                                                     doc  label\n",
       "33188   NOUS SOUSSIGNES, MEMBRES DU JURY DE L’EXAMEN ...      1\n",
       "18375  PAR ORDONNANCE N° 88-092 DU 07 JUILLET 1998 ; ...      0\n",
       "6611    NOUS SOUSSIGNES, MEMBRES DU JURY DE L’EXAMEN ...      0"
      ]
     },
     "execution_count": 33,
     "metadata": {},
     "output_type": "execute_result"
    }
   ],
   "source": [
    "sampled_df.sample(3)"
   ]
  },
  {
   "cell_type": "code",
   "execution_count": 34,
   "id": "43fb2015",
   "metadata": {
    "id": "43fb2015"
   },
   "outputs": [],
   "source": [
    "from sklearn.model_selection import train_test_split\n",
    "\n",
    "X = sampled_df.doc.values\n",
    "y = sampled_df.label.values\n",
    "\n",
    "X_train, X_val, y_train, y_val =\\\n",
    "    train_test_split(X, y, test_size=0.2, random_state=2020)"
   ]
  },
  {
   "cell_type": "code",
   "execution_count": 35,
   "id": "77c6a3cc",
   "metadata": {
    "id": "77c6a3cc",
    "outputId": "05aa23af-dfac-45c3-d199-65d7eef122df"
   },
   "outputs": [
    {
     "name": "stderr",
     "output_type": "stream",
     "text": [
      "[nltk_data] Downloading package stopwords to C:\\Users\\YHLB2266\\Données\n",
      "[nltk_data]     d'applications\\nltk_data...\n",
      "[nltk_data]   Package stopwords is already up-to-date!\n"
     ]
    }
   ],
   "source": [
    "import nltk\n",
    "# Uncomment to download \"stopwords\"\n",
    "nltk.download(\"stopwords\")\n",
    "from nltk.corpus import stopwords\n",
    "\n",
    "def text_preprocessing(s):\n",
    "    \"\"\"\n",
    "    - Lowercase the sentence\n",
    "    - Change \"'t\" to \"not\"\n",
    "    - Remove \"@name\"\n",
    "    - Isolate and remove punctuations except \"?\"\n",
    "    - Remove other special characters\n",
    "    - Remove stop words except \"not\" and \"can\"\n",
    "    - Remove trailing whitespace\n",
    "    \"\"\"\n",
    "    s = s.lower()\n",
    "    # Change 't to 'not'\n",
    "    s = re.sub(r\"\\'t\", \" not\", s)\n",
    "    # Remove @name\n",
    "    s = re.sub(r'(@.*?)[\\s]', ' ', s)\n",
    "    # Isolate and remove punctuations except '?'\n",
    "    s = re.sub(r'([\\'\\\"\\.\\(\\)\\!\\?\\\\\\/\\,])', r'  ', s)\n",
    "    s = re.sub(r'[^\\w\\s\\?]', ' ', s)\n",
    "    # Remove some special characters\n",
    "    s = re.sub(r'([\\;\\:\\|•«\\n])', ' ', s)\n",
    "    # Remove stopwords except 'not' and 'can'\n",
    "    s = \" \".join([word for word in s.split()\n",
    "                  if word not in stopwords.words('english')\n",
    "                  or word in ['not', 'can']])\n",
    "    # Remove trailing whitespace\n",
    "    s = re.sub(r'\\s+', ' ', s).strip()\n",
    "\n",
    "    return s"
   ]
  },
  {
   "cell_type": "code",
   "execution_count": 36,
   "id": "fb8df7d5",
   "metadata": {
    "id": "fb8df7d5"
   },
   "outputs": [],
   "source": [
    "import re\n",
    "from sklearn.feature_extraction.text import TfidfVectorizer\n",
    "\n",
    "# Preprocess text\n",
    "X_train_preprocessed = np.array([text_preprocessing(text) for text in X_train])\n",
    "X_val_preprocessed = np.array([text_preprocessing(text) for text in X_val])\n",
    "\n",
    "# Calculate TF-IDF\n",
    "tf_idf = TfidfVectorizer(ngram_range=(1, 3),\n",
    "                         binary=True,\n",
    "                         smooth_idf=False)\n",
    "X_train_tfidf = tf_idf.fit_transform(X_train_preprocessed)\n",
    "X_val_tfidf = tf_idf.transform(X_val_preprocessed)"
   ]
  },
  {
   "cell_type": "code",
   "execution_count": 37,
   "id": "b8703e0a",
   "metadata": {
    "id": "b8703e0a"
   },
   "outputs": [
    {
     "name": "stdout",
     "output_type": "stream",
     "text": [
      "Accuracy: 0.9028125\n"
     ]
    }
   ],
   "source": [
    "log_reg = LogisticRegression()\n",
    "log_reg.fit(X_train_tfidf, y_train)\n",
    "\n",
    "# Making predictions and evaluating the model\n",
    "y_pred_log = log_reg.predict(X_val_tfidf)\n",
    "print(\"Accuracy:\", accuracy_score(y_val, y_pred_log)) "
   ]
  },
  {
   "cell_type": "code",
   "execution_count": 38,
   "id": "ef5e6975",
   "metadata": {},
   "outputs": [
    {
     "name": "stdout",
     "output_type": "stream",
     "text": [
      "Accuracy: 0.721875\n"
     ]
    }
   ],
   "source": [
    "dtree = DecisionTreeClassifier()\n",
    "dtree.fit(X_train_tfidf, y_train)\n",
    "\n",
    "# Making predictions and evaluating the model\n",
    "y_pred_dtree = dtree.predict(X_val_tfidf)\n",
    "print(\"Accuracy:\", accuracy_score(y_val, y_pred_dtree))  \n"
   ]
  },
  {
   "cell_type": "code",
   "execution_count": 39,
   "id": "f66deb58",
   "metadata": {},
   "outputs": [
    {
     "name": "stdout",
     "output_type": "stream",
     "text": [
      "Accuracy: 0.4653125\n"
     ]
    }
   ],
   "source": [
    "rand_forest = RandomForestClassifier()\n",
    "rand_forest.fit(X_train_tfidf, y_train)\n",
    "\n",
    "# Making predictions and evaluating the model\n",
    "y_pred_rand_forest = rand_forest.predict(X_val_tfidf)\n",
    "print(\"Accuracy:\", accuracy_score(y_val, y_pred_rand_forest)) \n"
   ]
  },
  {
   "cell_type": "code",
   "execution_count": 40,
   "id": "c78069bd",
   "metadata": {},
   "outputs": [
    {
     "name": "stdout",
     "output_type": "stream",
     "text": [
      "Accuracy: 0.6759375\n"
     ]
    }
   ],
   "source": [
    "knn = KNeighborsClassifier()\n",
    "knn.fit(X_train_tfidf, y_train)\n",
    "\n",
    "# Making predictions and evaluating the model\n",
    "y_pred_knn = knn.predict(X_val_tfidf)\n",
    "print(\"Accuracy:\", accuracy_score(y_val, y_pred_knn)) \n"
   ]
  },
  {
   "cell_type": "code",
   "execution_count": null,
   "id": "56de6b89",
   "metadata": {},
   "outputs": [],
   "source": []
  },
  {
   "cell_type": "code",
   "execution_count": 42,
   "id": "3de767eb",
   "metadata": {
    "id": "3de767eb",
    "outputId": "7e130c84-6a99-451b-970c-c57e198cf8e9"
   },
   "outputs": [
    {
     "name": "stdout",
     "output_type": "stream",
     "text": [
      "Accuracy: 0.9503125\n",
      "\n",
      "Classification Report:\n",
      "               precision    recall  f1-score   support\n",
      "\n",
      "           0       1.00      0.90      0.95      1543\n",
      "           1       0.91      1.00      0.95      1657\n",
      "\n",
      "    accuracy                           0.95      3200\n",
      "   macro avg       0.96      0.95      0.95      3200\n",
      "weighted avg       0.95      0.95      0.95      3200\n",
      "\n",
      "\n",
      "Confusion Matrix:\n",
      " [[1386  157]\n",
      " [   2 1655]]\n"
     ]
    }
   ],
   "source": [
    "from sklearn.svm import SVC\n",
    "\n",
    "# Training the SVM model\n",
    "svm_model = SVC(kernel='linear')  \n",
    "svm_model.fit(X_train_tfidf, y_train)\n",
    "\n",
    "# Making predictions and evaluating the model\n",
    "y_pred_svm = svm_model.predict(X_val_tfidf)\n",
    "print(\"Accuracy:\", accuracy_score(y_val, y_pred_svm))\n",
    "print(\"\\nClassification Report:\\n\", classification_report(y_val, y_pred_svm))\n",
    "print(\"\\nConfusion Matrix:\\n\", confusion_matrix(y_val, y_pred_svm))"
   ]
  },
  {
   "cell_type": "code",
   "execution_count": null,
   "id": "e9cb6dc7",
   "metadata": {
    "id": "e9cb6dc7",
    "outputId": "8983a674-2417-487a-93fd-104d3bfa52ac"
   },
   "outputs": [],
   "source": [
    "import seaborn as sns\n",
    "# Confusion Matrix\n",
    "conf_mat = confusion_matrix(y_val, y_pred_svm)\n",
    "sns.heatmap(conf_mat, annot=True, fmt='d')\n",
    "plt.xlabel('Predicted')\n",
    "plt.ylabel('True')\n",
    "plt.show()"
   ]
  },
  {
   "cell_type": "code",
   "execution_count": null,
   "id": "e5fd977f",
   "metadata": {},
   "outputs": [],
   "source": []
  }
 ],
 "metadata": {
  "colab": {
   "provenance": []
  },
  "kernelspec": {
   "display_name": "Python 3 (ipykernel)",
   "language": "python",
   "name": "python3"
  },
  "language_info": {
   "codemirror_mode": {
    "name": "ipython",
    "version": 3
   },
   "file_extension": ".py",
   "mimetype": "text/x-python",
   "name": "python",
   "nbconvert_exporter": "python",
   "pygments_lexer": "ipython3",
   "version": "3.11.5"
  }
 },
 "nbformat": 4,
 "nbformat_minor": 5
}
