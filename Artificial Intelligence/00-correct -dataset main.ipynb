{
 "cells": [
  {
   "cell_type": "markdown",
   "id": "e6a1bb8d",
   "metadata": {},
   "source": [
    "<h2>Load Positive names </h2>"
   ]
  },
  {
   "cell_type": "code",
   "execution_count": 15,
   "id": "14900b69",
   "metadata": {},
   "outputs": [],
   "source": [
    "from PyPDF2 import PdfWriter, PdfReader\n",
    "import csv\n",
    "import re\n",
    "\n",
    "\n",
    "all_student_names = []\n",
    "\n",
    "# Function to extract names and percentages from a line of text\n",
    "def extract_data(line):\n",
    "    pattern = r'\\d+\\s([A-Z][a-z]+\\s[A-Z][a-z]+(?:\\s[A-Z][a-z]+)*)'\n",
    "    return re.findall(pattern, text)\n",
    "\n",
    "def loadNames(filename):\n",
    "    # Open the PDF file\n",
    "    with open(filename, 'rb') as file:\n",
    "        reader = PdfReader(file) \n",
    "        num_pages = len(reader.pages)\n",
    "        all_extracted_data = [] \n",
    "        # CSV file to store the extracted data\n",
    "        with open('data/students_data.csv', 'w', newline='', encoding='utf-8') as csvfile:\n",
    "            csvwriter = csv.writer(csvfile)\n",
    "            csvwriter.writerow(['Full Name', 'Percentage'])\n",
    "\n",
    "            # Iterate through each page in the PDF\n",
    "            for page_num in range(num_pages):\n",
    "                page = reader.pages[page_num]\n",
    "                text = page.extract_text() \n",
    " \n",
    "                pattern = re.compile(r'([A-Z\\s]+)\\s+\\d+\\s+(F|M)\\s+(\\d+)') \n",
    "                matches = pattern.findall(text) \n",
    "                for match in matches:\n",
    "                    all_extracted_data.append({\n",
    "                        'name': match[0].strip(),  # Strip to remove any extra whitespace\n",
    "                        'gender': 'F' if match[1] == 'F' else 'M',\n",
    "                        'marks': int(match[2])  # Convert string to int\n",
    "                    })\n",
    "    print(\"Palmares extracted...\")\n",
    "    return all_extracted_data\n",
    "                \n",
    "\n"
   ]
  },
  {
   "cell_type": "code",
   "execution_count": 16,
   "id": "d25432e3",
   "metadata": {
    "scrolled": true
   },
   "outputs": [
    {
     "name": "stdout",
     "output_type": "stream",
     "text": [
      "Palmares extracted...\n"
     ]
    }
   ],
   "source": [
    "positiveNames = loadNames('Palmares_KINSHASA-EST_11_2015.pdf')"
   ]
  },
  {
   "cell_type": "code",
   "execution_count": 17,
   "id": "07e940e0",
   "metadata": {},
   "outputs": [
    {
     "name": "stdout",
     "output_type": "stream",
     "text": [
      "Palmares extracted...\n"
     ]
    }
   ],
   "source": [
    "negativeNames2 = loadNames('Palmares_KINSHASA-OUEST-13_2015.pdf')"
   ]
  },
  {
   "cell_type": "code",
   "execution_count": 18,
   "id": "6d3bc8b7",
   "metadata": {
    "scrolled": true
   },
   "outputs": [
    {
     "name": "stdout",
     "output_type": "stream",
     "text": [
      "Palmares extracted...\n"
     ]
    }
   ],
   "source": [
    "negativeNames3 = loadNames('Palmares_KINSHASA-CENTRE-12_2015.pdf')"
   ]
  },
  {
   "cell_type": "code",
   "execution_count": 19,
   "id": "08d14816",
   "metadata": {
    "scrolled": true
   },
   "outputs": [
    {
     "name": "stdout",
     "output_type": "stream",
     "text": [
      "positive: 24809 negative1 : 20736 negative2 : 25771\n"
     ]
    }
   ],
   "source": [
    "print(f\"positive: {len(positiveNames)} negative1 : {len(negativeNames2)} negative2 : {len(negativeNames3)}\")"
   ]
  },
  {
   "cell_type": "code",
   "execution_count": 20,
   "id": "82a28ae5",
   "metadata": {},
   "outputs": [
    {
     "data": {
      "text/plain": [
       "45545"
      ]
     },
     "execution_count": 20,
     "metadata": {},
     "output_type": "execute_result"
    }
   ],
   "source": [
    "positive_concat = positiveNames + negativeNames2\n",
    "len(positive_concat)"
   ]
  },
  {
   "cell_type": "code",
   "execution_count": 21,
   "id": "720ed66b",
   "metadata": {},
   "outputs": [
    {
     "data": {
      "text/plain": [
       "46507"
      ]
     },
     "execution_count": 21,
     "metadata": {},
     "output_type": "execute_result"
    }
   ],
   "source": [
    "negative_concat = negativeNames3 + negativeNames2\n",
    "len(negative_concat)"
   ]
  },
  {
   "cell_type": "markdown",
   "id": "333ed4d1",
   "metadata": {},
   "source": [
    "<h1>Correct Diplomas</h1>"
   ]
  },
  {
   "cell_type": "code",
   "execution_count": 22,
   "id": "bd4b7db7",
   "metadata": {},
   "outputs": [
    {
     "name": "stdout",
     "output_type": "stream",
     "text": [
      "positive file generated\n"
     ]
    }
   ],
   "source": [
    "import random\n",
    "from datetime import datetime, timedelta\n",
    "import names\n",
    "from num2words import num2words\n",
    "import locale\n",
    "locale.setlocale(locale.LC_TIME, 'fr_FR')\n",
    "import csv\n",
    "import re\n",
    "\n",
    "\n",
    "\n",
    "# Template de base\n",
    "template = \"\"\"\n",
    "NOUS SOUSSIGNES, MEMBRES DU JURY DE L’EXAMEN D’ETAT DE FIN D’ETUDES SECONDAIRES DU CYCLE LONG, INSTITUE\n",
    "PAR ORDONNANCE N° 88-092 DU 07 JUILLET 1998 ;\n",
    "VU LA LOI-CADRE N° 14/004 DU 11 FEVRIRER 2014 DE L’ENSEIGNEMENT NATIONAL SPECIALEMENT EN SES ARTICLES 8, 151\n",
    "ET 193 ;\n",
    "VU, TEL QUE MODIFIE ET COMPLETE A CE JOUR, L’ARRETE MINISTERIEL N° MINEPSP/CABMIN/0040/2004 DU 20 AVRIL 2004\n",
    "MODIFIANT ET COMPLETANT L’ARRETE MINISTERIEL N° MINEPSP/CABMIN/008 DU 15 JANVIER 2004 PORTANT MESURES\n",
    "TRANSITOIRES RELATIVES A L’ORGANISATION DE L’EXAMEN D’ETAT DE FIN D’ETUDES SECONDAIRES DU CYCLE LONG.\n",
    "ATTESTONS QUE $GENDER $NOM_DE_ELEVE NE A $VILLE LE $DATE_DE_NAISSANCE A PARTICIPE A LA SESSION\n",
    "D’EXAMEN D’ETAT ET A OBTENU $POURCENTAGE $POURCENTAGE_EN_TOUTE_LETTRE POUR CENT DES POINTS AUX CONDITIONS DE REUSSITE FIXEES\n",
    "PAR L’ORDONNANCE SUSMENTIONNEE.\n",
    "EN FOI DE QUOI, LUI DELIVRONS LE PRESENT DIPLOME D’ETUDES SECONDAIRES DU CYCLE LONG DE LA SECTION\n",
    "$SECTION OPTION $OPTION\n",
    "DELIVRE A KINSHASA LE $DATE_LIVRAISON\n",
    "LES MEMBRES DU JURY                        L’INSPECTEUR GENERAL                      LE SECRETATIRE GENERAL\n",
    "                                                                          PRESIDENT DU JURY                                      SUPERVISEUR \n",
    "DIPLOME D’ETAT\n",
    "CD  - $SERIALNUMBER-$SERIALYEARREPUBLIQUE DEMOCRATIQUE DU CONGO\n",
    "MINISTERE DE L’ENSEIGNEMENT PRIMAIRE,\n",
    "SECONDAIRE ET PROFESSIONNEL\n",
    "\n",
    "\"\"\"\n",
    "\n",
    "villes = [\n",
    "    'KINSHASA', 'LUBUMBASHI', 'MBUJI-MAYI', 'KISANGANI', \n",
    "    'KANANGA', 'LIKASI', 'KOLWEZI', 'TSHIKAPA', 'BUKAVU', \n",
    "    'MATADI', 'MASINA', 'KIKWIT', 'MWEKA', 'BANDUNDU', \n",
    "    'MIBANDA', 'KALEMIE', 'GOMA', 'GEMENA', 'ISIRO', \n",
    "    'KINDU', 'BUTEMBO', 'BENI', 'MONGWALU', 'BUNIA', \n",
    "    'UVIRA', 'BUTA', 'BASANKUSU', 'KAMINA', 'LISALA', \n",
    "    'IKELA', 'DEMBA', 'KABINDA', 'KIPUSHI', 'KASUMBALESA', \n",
    "    'LUBAO', 'LODJA', 'MWEKA', 'LUSAMBO', 'BOSO MANZI', \n",
    "    'MBANDAKA', 'BOLONGO', 'INONGO', 'KASONGO', 'AKETI'\n",
    "]\n",
    "\n",
    "sections_et_options = {\n",
    "    \"Pédagogie\": [\"pédagogie Générale\", \"psychologie\", \"Nutrition\", \"Commerciale et Administrative\", \"Sociale\"],\n",
    "    \"littéraire\": [\"LATIN-PHILOSOPHIE\"],\n",
    "    \"Scientifique\": [\"MATHEMATIQUE-PHYSIQUE\", \"CHIMIE-BIOLOGIE\"],\n",
    "    \"Technique\": [\"MECANIQUE GENERALE\", \"ELECTRONIQUE\", \"ELECTRICITE\"], \n",
    "    \"commercial\": [\"Comptabilité\", \"COMMERCIALE INFORMATIQUE'\", \"COMMERCIALE ET ADMINISTRATIVE\"],\n",
    "    \"HOTELERIE\": [\"HOTESSE D'ACCUEIL\", \"HOTELLERIE & RESTAURATION\"],\n",
    "    \"Professionel\": [\"'MECANIQUE AUTOMOBILE\", \"AGRICULTURE GENERALE\", \"IMPRIMERIE\", \"ESTHETIQUE & COIFFURE\", ]\n",
    "}\n",
    " \n",
    "\n",
    "# Fonction pour générer une date de naissance aléatoire\n",
    "def generer_date_naissance():\n",
    "    annee = random.randint(1994, 2000)\n",
    "    mois = random.randint(1, 12)\n",
    "    jour = random.randint(1, 28)  # Pour simplifier, on prend 28 pour éviter les problèmes de mois à 30 ou 31 jours\n",
    "    return datetime(annee, mois, jour)\n",
    "\n",
    "def generer_date_future(dob):\n",
    "    years_added = random.randint(18, 23)\n",
    "    future_date = dob + timedelta(days=years_added * 365)  # Approximation\n",
    "    return future_date\n",
    "\n",
    "# Fonction pour générer un diplôme\n",
    "def generer_diplome(is_negative = True):\n",
    "    pourcentage = random.randint(50, 99)\n",
    "    dob = generer_date_naissance()\n",
    "    date_future = generer_date_future(dob)\n",
    "    selected_section = random.choice(list(sections_et_options.keys()))\n",
    "    digits = ''.join([str(random.randint(0, 9)) for _ in range(14)])\n",
    "\n",
    "    # Randomly select an option from the selected section\n",
    "    selected_option = random.choice(sections_et_options[selected_section])\n",
    "    diplome = template\n",
    "    if is_negative:\n",
    "        student = random.choice(negative_concat)\n",
    "    else:\n",
    "        student = random.choice(positive_concat)\n",
    "        \n",
    "    if student['gender'] == \"F\":\n",
    "        gender = \"LA NOMMEE\"\n",
    "    else:\n",
    "        gender = \"LE NOMMEE\" \n",
    "    diplome = diplome.replace('$GENDER', gender)\n",
    "    diplome = diplome.replace('$NOM_DE_ELEVE', student[\"name\"].upper())    \n",
    "    diplome = diplome.replace('$VILLE', random.choice(villes))\n",
    "    diplome = diplome.replace('$DATE_DE_NAISSANCE', dob.strftime('%d %B %Y').upper())\n",
    "    diplome = diplome.replace('$POURCENTAGE_EN_TOUTE_LETTRE', str(num2words(student['marks'], lang ='fr').upper()))\n",
    "    diplome = diplome.replace('$POURCENTAGE', f\"{str(student['marks'])}% \")\n",
    "    diplome = diplome.replace('$SECTION', selected_section.upper())\n",
    "    diplome = diplome.replace('$OPTION', selected_option.upper())\n",
    "    diplome = diplome.replace('$SERIALNUMBER', digits)\n",
    "    diplome = diplome.replace('$SERIALYEAR', date_future.strftime('%Y'))\n",
    "    diplome = diplome.replace('$DATE_LIVRAISON', date_future.strftime('%d %B %Y').upper())\n",
    "\n",
    "    return diplome\n",
    "\n",
    "def store_strings_in_csv(filename, number_of_strings):\n",
    "    with open(filename, mode='a', newline='', encoding='utf-8') as file:\n",
    "        writer = csv.writer(file)\n",
    "        for _ in range(number_of_strings):\n",
    "            string = generer_diplome(is_negative=False)\n",
    "            string = string.replace('\\n', ' ') \n",
    "            string = re.sub(' +', ' ', string)\n",
    "            writer.writerow([string]) \n",
    "\n",
    "            \n",
    "#stores 2500 record\n",
    "store_strings_in_csv('data/positive.csv', 40000)\n",
    "print(\"positive file generated\")"
   ]
  },
  {
   "cell_type": "markdown",
   "id": "b34b29e1",
   "metadata": {},
   "source": [
    "<h1>Header Pourcentage Irrealiste</h1>"
   ]
  },
  {
   "cell_type": "code",
   "execution_count": 23,
   "id": "68a19fe6",
   "metadata": {},
   "outputs": [
    {
     "name": "stdout",
     "output_type": "stream",
     "text": [
      "negative 1 generated\n"
     ]
    }
   ],
   "source": [
    "\n",
    "# Fonction pour générer un diplôme\n",
    "def generer_diplome():\n",
    "    pourcentage = random.randint(100, 500) \n",
    "    dob = generer_date_naissance()\n",
    "    date_future = generer_date_future(dob)\n",
    "    selected_section = random.choice(list(sections_et_options.keys()))\n",
    "    digits = ''.join([str(random.randint(0, 9)) for _ in range(14)])\n",
    "\n",
    "     # Randomly select an option from the selected section\n",
    "    selected_option = random.choice(sections_et_options[selected_section])\n",
    "    diplome = template\n",
    "    student = random.choice(negative_concat)\n",
    "        \n",
    "    if student['gender'] == \"F\":\n",
    "        gender = \"LA NOMMEE\"\n",
    "    else:\n",
    "        gender = \"LE NOMMEE\" \n",
    "    diplome = diplome.replace('$GENDER', gender)\n",
    "    diplome = diplome.replace('$NOM_DE_ELEVE', student[\"name\"].upper())    \n",
    "    diplome = diplome.replace('$VILLE', random.choice(villes))\n",
    "    diplome = diplome.replace('$DATE_DE_NAISSANCE', dob.strftime('%d %B %Y').upper())\n",
    "    diplome = diplome.replace('$POURCENTAGE_EN_TOUTE_LETTRE', str(num2words(pourcentage, lang ='fr').upper()))\n",
    "    diplome = diplome.replace('$POURCENTAGE', f\"{str(pourcentage)}% \")\n",
    "    diplome = diplome.replace('$SECTION', selected_section.upper())\n",
    "    diplome = diplome.replace('$OPTION', selected_option.upper())\n",
    "    diplome = diplome.replace('$SERIALNUMBER', digits)\n",
    "    diplome = diplome.replace('$SERIALYEAR', date_future.strftime('%Y'))\n",
    "    diplome = diplome.replace('$DATE_LIVRAISON', date_future.strftime('%d %B %Y').upper())\n",
    "\n",
    "    return diplome\n",
    "\n",
    "\n",
    "def store_strings_in_csv(filename, number_of_strings):\n",
    "    with open(filename, mode='a', newline='', encoding='utf-8') as file:\n",
    "        writer = csv.writer(file)\n",
    "        for _ in range(number_of_strings):\n",
    "            string = generer_diplome()\n",
    "            string = string.replace('\\n', ' ') \n",
    "            string = re.sub(' +', ' ', string)\n",
    "            writer.writerow([string]) \n",
    "\n",
    "            \n",
    "#stores 2500 record\n",
    "store_strings_in_csv('data/negative-1.csv', 5000)\n",
    "print(\"negative 1 generated\")"
   ]
  },
  {
   "cell_type": "markdown",
   "id": "47fde2ae",
   "metadata": {},
   "source": [
    "<h1>Date de délivrance avant la naissance</h1>"
   ]
  },
  {
   "cell_type": "code",
   "execution_count": 24,
   "id": "f4806b74",
   "metadata": {},
   "outputs": [
    {
     "name": "stdout",
     "output_type": "stream",
     "text": [
      "generated\n"
     ]
    }
   ],
   "source": [
    "\n",
    "# Fonction pour générer un diplôme\n",
    "def generer_diplome():\n",
    "    pourcentage = random.randint(1, 500)\n",
    "    dob = generer_date_naissance()\n",
    "    date_future = generer_date_future(dob) - timedelta(days=365 * 30)  # Date de délivrance avant la naissance\n",
    "    selected_section = random.choice(list(sections_et_options.keys()))\n",
    "    digits = ''.join([str(random.randint(0, 9)) for _ in range(14)])\n",
    "\n",
    "    # Randomly select an option from the selected section\n",
    "    selected_option = random.choice(sections_et_options[selected_section])\n",
    "    diplome = template\n",
    "    student = random.choice(negative_concat)\n",
    "        \n",
    "    if student['gender'] == \"F\":\n",
    "        gender = \"LA NOMMEE\"\n",
    "    else:\n",
    "        gender = \"LE NOMMEE\" \n",
    "    diplome = diplome.replace('$GENDER', gender)\n",
    "    diplome = diplome.replace('$NOM_DE_ELEVE', student[\"name\"].upper())    \n",
    "    diplome = diplome.replace('$VILLE', random.choice(villes))\n",
    "    diplome = diplome.replace('$DATE_DE_NAISSANCE', dob.strftime('%d %B %Y').upper())\n",
    "    diplome = diplome.replace('$POURCENTAGE_EN_TOUTE_LETTRE', str(num2words(pourcentage, lang ='fr').upper()))\n",
    "    diplome = diplome.replace('$POURCENTAGE', f\"{str(pourcentage)}% \")\n",
    "    diplome = diplome.replace('$SECTION', selected_section.upper())\n",
    "    diplome = diplome.replace('$OPTION', selected_option.upper())\n",
    "    diplome = diplome.replace('$SERIALNUMBER', digits)\n",
    "    diplome = diplome.replace('$SERIALYEAR', date_future.strftime('%Y'))\n",
    "    diplome = diplome.replace('$DATE_LIVRAISON', date_future.strftime('%d %B %Y').upper())\n",
    "\n",
    "    return diplome\n",
    "\n",
    "\n",
    "def store_strings_in_csv(filename, number_of_strings):\n",
    "    with open(filename, mode='a', newline='', encoding='utf-8') as file:\n",
    "        writer = csv.writer(file)\n",
    "        for _ in range(number_of_strings):\n",
    "            string = generer_diplome()\n",
    "            string = string.replace('\\n', ' ') \n",
    "            string = re.sub(' +', ' ', string)\n",
    "            writer.writerow([string]) \n",
    "\n",
    "            \n",
    "#stores 2500 record\n",
    "store_strings_in_csv('data/negative-2.csv', 5000)\n",
    "print(\"generated\")"
   ]
  },
  {
   "cell_type": "markdown",
   "id": "fb8c7433",
   "metadata": {},
   "source": [
    "<h1>Serie trop long</h1>"
   ]
  },
  {
   "cell_type": "code",
   "execution_count": 25,
   "id": "2d0fc19a",
   "metadata": {},
   "outputs": [
    {
     "name": "stdout",
     "output_type": "stream",
     "text": [
      "generated\n"
     ]
    }
   ],
   "source": [
    "\n",
    "# Fonction pour générer un diplôme\n",
    "def generer_diplome():\n",
    "    pourcentage = random.randint(45, 99)\n",
    "    dob = generer_date_naissance()\n",
    "    date_future = generer_date_future(dob)\n",
    "    selected_section = random.choice(list(sections_et_options.keys()))\n",
    "    digits = ''.join([str(random.randint(0, 9)) for _ in range(20)])\n",
    "\n",
    "    # Randomly select an option from the selected section\n",
    "    selected_option = random.choice(sections_et_options[selected_section])\n",
    "    diplome = template\n",
    "    student = random.choice(negative_concat)\n",
    "        \n",
    "    if student['gender'] == \"F\":\n",
    "        gender = \"LA NOMMEE\"\n",
    "    else:\n",
    "        gender = \"LE NOMMEE\" \n",
    "    diplome = diplome.replace('$GENDER', gender)\n",
    "    diplome = diplome.replace('$NOM_DE_ELEVE', student[\"name\"].upper())    \n",
    "    diplome = diplome.replace('$VILLE', random.choice(villes))\n",
    "    diplome = diplome.replace('$DATE_DE_NAISSANCE', dob.strftime('%d %B %Y').upper())\n",
    "    diplome = diplome.replace('$POURCENTAGE_EN_TOUTE_LETTRE', str(num2words(pourcentage, lang ='fr').upper()))\n",
    "    diplome = diplome.replace('$POURCENTAGE', f\"{str(pourcentage)}% \")\n",
    "    diplome = diplome.replace('$SECTION', selected_section.upper())\n",
    "    diplome = diplome.replace('$OPTION', selected_option.upper())\n",
    "    diplome = diplome.replace('$SERIALNUMBER', digits)\n",
    "    diplome = diplome.replace('$SERIALYEAR', date_future.strftime('%Y'))\n",
    "    diplome = diplome.replace('$DATE_LIVRAISON', date_future.strftime('%d %B %Y').upper())\n",
    "\n",
    "    return diplome\n",
    "\n",
    "def store_strings_in_csv(filename, number_of_strings):\n",
    "    with open(filename, mode='a', newline='', encoding='utf-8') as file:\n",
    "        writer = csv.writer(file)\n",
    "        for _ in range(number_of_strings):\n",
    "            string = generer_diplome()\n",
    "            string = string.replace('\\n', ' ') \n",
    "            string = re.sub(' +', ' ', string)\n",
    "            writer.writerow([string]) \n",
    "\n",
    "            \n",
    "#stores 2500 record\n",
    "store_strings_in_csv('data/negative-3.csv', 5000)\n",
    "print(\"generated\")"
   ]
  },
  {
   "cell_type": "markdown",
   "id": "98b2f5cb",
   "metadata": {},
   "source": [
    "<h1>All key informations are not respected</h1>"
   ]
  },
  {
   "cell_type": "code",
   "execution_count": 26,
   "id": "baa7e48a",
   "metadata": {},
   "outputs": [
    {
     "name": "stdout",
     "output_type": "stream",
     "text": [
      "generated\n"
     ]
    }
   ],
   "source": [
    "\n",
    "# Fonction pour générer un diplôme\n",
    "def generer_diplome():\n",
    "     # Utilisation de la même structure de base\n",
    "    pourcentage = random.randint(30, 150)  # Pourcentage irréaliste\n",
    "    dob = generer_date_naissance()\n",
    "    date_future = generer_date_future(dob) - timedelta(days=365 * 30)  # Date de délivrance avant la naissance\n",
    "    selected_section = random.choice(list(sections_et_options.keys()))\n",
    "\n",
    "    # Générer un numéro de série incohérent\n",
    "    digits = ''.join([str(random.randint(0, 9)) for _ in range(20)])  # Trop long\n",
    " \n",
    "\n",
    "    # Randomly select an option from the selected section\n",
    "    selected_option = random.choice(sections_et_options[selected_section])\n",
    "    diplome = template\n",
    "    student = random.choice(negative_concat)\n",
    "        \n",
    "    if student['gender'] == \"F\":\n",
    "        gender = \"LA NOMMEE\"\n",
    "    else:\n",
    "        gender = \"LE NOMMEE\" \n",
    "    diplome = diplome.replace('$GENDER', gender)\n",
    "    diplome = diplome.replace('$NOM_DE_ELEVE', student[\"name\"].upper())    \n",
    "    diplome = diplome.replace('$VILLE', random.choice(villes))\n",
    "    diplome = diplome.replace('$DATE_DE_NAISSANCE', dob.strftime('%d %B %Y').upper())\n",
    "    diplome = diplome.replace('$POURCENTAGE_EN_TOUTE_LETTRE', str(num2words(pourcentage, lang ='fr').upper()))\n",
    "    diplome = diplome.replace('$POURCENTAGE', f\"{str(pourcentage)}% \")\n",
    "    diplome = diplome.replace('$SECTION', selected_section.upper())\n",
    "    diplome = diplome.replace('$OPTION', selected_option.upper())\n",
    "    diplome = diplome.replace('$SERIALNUMBER', digits)\n",
    "    diplome = diplome.replace('$SERIALYEAR', date_future.strftime('%Y'))\n",
    "    diplome = diplome.replace('$DATE_LIVRAISON', date_future.strftime('%d %B %Y').upper())\n",
    "\n",
    "    return diplome\n",
    "\n",
    "\n",
    "def store_strings_in_csv(filename, number_of_strings):\n",
    "    with open(filename, mode='a', newline='', encoding='utf-8') as file:\n",
    "        writer = csv.writer(file)\n",
    "        for _ in range(number_of_strings):\n",
    "            string = generer_diplome()\n",
    "            string = string.replace('\\n', ' ') \n",
    "            string = re.sub(' +', ' ', string)\n",
    "            writer.writerow([string]) \n",
    "\n",
    "            \n",
    "#stores 2500 record\n",
    "store_strings_in_csv('data/negative-5.csv', 5000)\n",
    "print(\"generated\")"
   ]
  },
  {
   "cell_type": "markdown",
   "id": "bc5c178d",
   "metadata": {},
   "source": [
    "<h1>Missing of one or many key informations</h1>"
   ]
  },
  {
   "cell_type": "code",
   "execution_count": 27,
   "id": "3baef96a",
   "metadata": {},
   "outputs": [],
   "source": [
    "\n",
    "# Fonction pour générer un diplôme\n",
    "def generer_diplome():\n",
    "    pourcentage = random.randint(50, 99)\n",
    "    dob = generer_date_naissance()\n",
    "    date_future = generer_date_future(dob)\n",
    "    selected_section = random.choice(list(sections_et_options.keys()))\n",
    "    digits = ''.join([str(random.randint(0, 9)) for _ in range(14)])\n",
    "\n",
    "    # Randomly select an option from the selected section\n",
    "    selected_option = random.choice(sections_et_options[selected_section])\n",
    "    diplome = template\n",
    "    diplome = diplome.replace('$GENDER', random.choice(['LE NOMME', 'LA NOMMEE']))\n",
    "    \n",
    "    # Omission aléatoire d'informations ou insertion d'informations incorrectes\n",
    "    if random.choice([True, False]):\n",
    "        diplome = diplome.replace('$NOM_DE_ELEVE', names.get_full_name().upper())\n",
    "    else:\n",
    "        diplome = diplome.replace('$NOM_DE_ELEVE', '')  # Nom manquant\n",
    "\n",
    "    if random.choice([True, False]):\n",
    "        diplome = diplome.replace('$DATE_DE_NAISSANCE', dob.strftime('%d %B %Y').upper())\n",
    "    else:\n",
    "        diplome = diplome.replace('$DATE_DE_NAISSANCE', '')  # Date de naissance manquante\n",
    "        \n",
    "    if random.choice([True, False]):\n",
    "        diplome = diplome.replace('$VILLE', random.choice(villes))\n",
    "    else:\n",
    "        diplome = diplome.replace('$VILLE', '')  # Ville manquante\n",
    "        \n",
    "    if random.choice([True, False]):\n",
    "        diplome = diplome.replace('$DATE_DE_NAISSANCE', dob.strftime('%d %B %Y').upper())\n",
    "    else:\n",
    "        diplome = diplome.replace('$DATE_DE_NAISSANCE', '')  # DATE_DE_NAISSANCE manquante\n",
    "        \n",
    "    if random.choice([True, False]):\n",
    "        diplome = diplome.replace('$POURCENTAGE_EN_TOUTE_LETTRE', str(num2words(pourcentage, lang ='fr').upper()))\n",
    "    else:\n",
    "        diplome = diplome.replace('$POURCENTAGE_EN_TOUTE_LETTRE', '')  # POURCENTAGE_EN_TOUTE_LETTRE manquante\n",
    "    \n",
    "    if random.choice([True, False]):\n",
    "        diplome = diplome.replace('$POURCENTAGE', f\"{str(pourcentage)}% \")\n",
    "    else:\n",
    "        diplome = diplome.replace('$POURCENTAGE', '')  # POURCENTAGE manquante\n",
    "        \n",
    "    if random.choice([True, False]):\n",
    "        diplome = diplome.replace('$SECTION', selected_section.upper())\n",
    "    else:\n",
    "        diplome = diplome.replace('$SECTION', '')  # SECTION manquante\n",
    "    \n",
    "    if random.choice([True, False]):\n",
    "        diplome = diplome.replace('$OPTION', selected_option.upper())\n",
    "    else:\n",
    "        diplome = diplome.replace('$OPTION', '')  # OPTION manquante\n",
    "    \n",
    "    if random.choice([True, False]):\n",
    "        diplome = diplome.replace('$SERIALNUMBER', digits)\n",
    "    else:\n",
    "        diplome = diplome.replace('$SERIALNUMBER', '')  # SERIALNUMBER manquante\n",
    "    \n",
    "    if random.choice([True, False]):\n",
    "        diplome = diplome.replace('$SERIALYEAR', date_future.strftime('%Y'))\n",
    "    else:\n",
    "        diplome = diplome.replace('$SERIALYEAR', '')  # SERIALYEAR manquante\n",
    "    \n",
    "    if random.choice([True, False]):\n",
    "        diplome = diplome.replace('$DATE_LIVRAISON', date_future.strftime('%d %B %Y').upper())\n",
    "    else:\n",
    "        diplome = diplome.replace('$DATE_LIVRAISON', '')  # DATE_LIVRAISON manquante\n",
    " \n",
    "\n",
    "    return diplome\n",
    "\n",
    "\n",
    "\n",
    "def store_strings_in_csv(filename, number_of_strings):\n",
    "    with open(filename, mode='a', newline='', encoding='utf-8') as file:\n",
    "        writer = csv.writer(file)\n",
    "        for _ in range(number_of_strings):\n",
    "            string = generer_diplome()\n",
    "            string = string.replace('\\n', ' ') \n",
    "            string = re.sub(' +', ' ', string)\n",
    "            writer.writerow([string]) \n",
    "\n",
    "            \n",
    "#stores 2500 record\n",
    "store_strings_in_csv('data/negative-6.csv', 5000)"
   ]
  },
  {
   "cell_type": "markdown",
   "id": "d8b0c5bb",
   "metadata": {},
   "source": [
    "<h1>Missing Lines</h1>"
   ]
  },
  {
   "cell_type": "code",
   "execution_count": 28,
   "id": "e02a4dd1",
   "metadata": {},
   "outputs": [],
   "source": [
    "# Fonction pour générer un diplôme\n",
    "def generer_diplome():\n",
    "    pourcentage = random.randint(50, 99)\n",
    "    dob = generer_date_naissance()\n",
    "    date_future = generer_date_future(dob)\n",
    "    selected_section = random.choice(list(sections_et_options.keys()))\n",
    "    digits = ''.join([str(random.randint(0, 9)) for _ in range(14)])\n",
    "\n",
    "    # Randomly select an option from the selected section\n",
    "    selected_option = random.choice(sections_et_options[selected_section])\n",
    "    diplome = template\n",
    "    all = negative_concat + positive_concat\n",
    "    student = random.choice(all)\n",
    "        \n",
    "    if student['gender'] == \"F\":\n",
    "        gender = \"LA NOMMEE\"\n",
    "    else:\n",
    "        gender = \"LE NOMMEE\" \n",
    "    diplome = diplome.replace('$GENDER', gender)\n",
    "    diplome = diplome.replace('$NOM_DE_ELEVE', student[\"name\"].upper())    \n",
    "    diplome = diplome.replace('$VILLE', random.choice(villes))\n",
    "    diplome = diplome.replace('$DATE_DE_NAISSANCE', dob.strftime('%d %B %Y').upper())\n",
    "    diplome = diplome.replace('$POURCENTAGE_EN_TOUTE_LETTRE', str(num2words(student['marks'], lang ='fr').upper()))\n",
    "    diplome = diplome.replace('$POURCENTAGE', f\"{str(student['marks'])}% \")\n",
    "    diplome = diplome.replace('$SECTION', selected_section.upper())\n",
    "    diplome = diplome.replace('$OPTION', selected_option.upper())\n",
    "    diplome = diplome.replace('$SERIALNUMBER', digits)\n",
    "    diplome = diplome.replace('$SERIALYEAR', date_future.strftime('%Y'))\n",
    "    diplome = diplome.replace('$DATE_LIVRAISON', date_future.strftime('%d %B %Y').upper())\n",
    "\n",
    "    return diplome\n",
    "\n",
    "def supprimer_lignes_aleatoires(diplome, nombre_de_lignes_a_supprimer=1):\n",
    "    lignes = diplome.strip().split('\\n')\n",
    "    for _ in range(nombre_de_lignes_a_supprimer):\n",
    "        if lignes:  # Vérifie s'il reste des lignes à supprimer\n",
    "            ligne_a_supprimer = random.choice(lignes) \n",
    "            lignes.remove(ligne_a_supprimer)\n",
    "    return '\\n'.join(lignes)\n",
    "\n",
    "# Fonction pour générer un diplôme incomplet\n",
    "def generer_diplome_incomplet():\n",
    "    diplome_complet = generer_diplome()\n",
    "    nombre_de_lignes_a_supprimer = random.randint(5, 18)  # Nombre de lignes à supprimer, ajustable\n",
    "    return supprimer_lignes_aleatoires(diplome_complet, nombre_de_lignes_a_supprimer)\n",
    "\n",
    "\n",
    "\n",
    "def store_strings_in_csv(filename, number_of_strings):\n",
    "    with open(filename, mode='a', newline='', encoding='utf-8') as file:\n",
    "        writer = csv.writer(file)\n",
    "        for _ in range(number_of_strings):\n",
    "            string = generer_diplome_incomplet()\n",
    "            string = string.replace('\\n', ' ') \n",
    "            string = re.sub(' +', ' ', string)\n",
    "            writer.writerow([string]) \n",
    "\n",
    "            \n",
    "#stores 2500 record\n",
    "store_strings_in_csv('data/negative-7.csv', 5000)"
   ]
  },
  {
   "cell_type": "code",
   "execution_count": 29,
   "id": "55c68252",
   "metadata": {},
   "outputs": [
    {
     "name": "stdout",
     "output_type": "stream",
     "text": [
      "generated\n"
     ]
    }
   ],
   "source": [
    "import random\n",
    "\n",
    "def jumble_words(text, target_word_count=150):\n",
    "    words = text.split()\n",
    "    jumbled_text = []\n",
    "    while len(jumbled_text) < target_word_count:\n",
    "        temp_words = words.copy()\n",
    "        random.shuffle(temp_words)\n",
    "        jumbled_text.extend(temp_words)\n",
    "    return ' '.join(jumbled_text[:target_word_count])\n",
    " \n",
    "# Example text\n",
    "text = \"\"\"\n",
    "NOUS SOUSSIGNES, MEMBRES DU JURY DE L’EXAMEN D’ETAT DE FIN D’ETUDES SECONDAIRES DU CYCLE LONG, INSTITUE\n",
    "PAR ORDONNANCE N° 88-092 DU 07 JUILLET 1998 ;\n",
    "VU LA LOI-CADRE N° 14/004 DU 11 FEVRIRER 2014 DE L’ENSEIGNEMENT NATIONAL SPECIALEMENT EN SES ARTICLES 8, 151\n",
    "ET 193 ;\n",
    "VU, TEL QUE MODIFIE ET COMPLETE A CE JOUR, L’ARRETE MINISTERIEL N° MINEPSP/CABMIN/0040/2004 DU 20 AVRIL 2004\n",
    "MODIFIANT ET COMPLETANT L’ARRETE MINISTERIEL N° MINEPSP/CABMIN/008 DU 15 JANVIER 2004 PORTANT MESURES\n",
    "TRANSITOIRES RELATIVES A L’ORGANISATION DE L’EXAMEN D’ETAT DE FIN D’ETUDES SECONDAIRES DU CYCLE LONG.\n",
    "ATTESTONS QUE $GENDER $NOM_DE_ELEVE NE A $VILLE LE $DATE_DE_NAISSANCE A PARTICIPE A LA SESSION\n",
    "D’EXAMEN D’ETAT ET A OBTENU $POURCENTAGE $POURCENTAGE_EN_TOUTE_LETTRE POUR CENT DES POINTS AUX CONDITIONS DE REUSSITE FIXEES\n",
    "PAR L’ORDONNANCE SUSMENTIONNEE.\n",
    "EN FOI DE QUOI, LUI DELIVRONS LE PRESENT DIPLOME D’ETUDES SECONDAIRES DU CYCLE LONG DE LA SECTION\n",
    "$SECTION OPTION $OPTION\n",
    "DELIVRE A KINSHASA LE $DATE_LIVRAISON\n",
    "LES MEMBRES DU JURY                        L’INSPECTEUR GENERAL                      LE SECRETATIRE GENERAL\n",
    "                                                                          PRESIDENT DU JURY                                      SUPERVISEUR \n",
    "DIPLOME D’ETAT\n",
    "CD  - $SERIALNUMBER-$SERIALYEARREPUBLIQUE DEMOCRATIQUE DU CONGO\n",
    "MINISTERE DE L’ENSEIGNEMENT PRIMAIRE,\n",
    "SECONDAIRE ET PROFESSIONNEL\n",
    "Une des principales causes de la fraude documentaire réside dans la complexité, la lenteur et les erreurs fréquentes du processus de vérification, surtout dans les institutions académiques qui maintiennent des processus manuels. Ces procédures impliquent souvent de multiples étapes, des documents papier et des vérifications humaines, créant ainsi un environnement propice aux erreurs et aux falsifications. Cette complexité rend ardue la traçabilité et la vérification fiable des documents, ouvrant ainsi la porte à des actes frauduleux.\n",
    "Une autre vulnérabilité majeure réside dans l'infrastructure peu robuste utilisée par de nombreuses institutions académiques pour stocker et gérer leurs documents. Les solutions logées dans des serveurs centraux sont particulièrement exposées aux attaques potentielles. Les cybercriminels peuvent cibler ces serveurs, compromettre leur sécurité et accéder à des documents académiques sensibles. L'absence de mécanismes de sécurité solides et de décentralisation de l'infrastructure rend les données académiques vulnérables à diverses menaces.\n",
    "Un défi critique supplémentaire concerne la détection d'actes et de manipulations malveillantes au sein du personnel des institutions académiques. La difficulté à repérer de telles activités malveillantes est souvent attribuée à leur occurrence interne et à leur masquage efficace. L'absence de mécanismes de traçabilité et de transparence dans les processus de gestion des documents académiques rend difficile la détection précoce de comportements frauduleux, ce qui peut avoir des conséquences dévastatrices sur l'intégrité académique.\n",
    "Dans ce contexte, nous proposons donc l'application de la technologie blockchain et de l'InterPlanetary File System (IPFS) comme une solution potentielle. En associant la décentralisation du stockage des documents apportée par l’IPFS et la sécurité de la blockchain, nous sommes convaincus que ces technologies peuvent contribuer à l'établissement d'une infrastructure robuste pour la protection des documents académiques, offrant ainsi des moyens efficaces pour contrer la fraude documentaire au sein du paysage académique. \n",
    "Matière Nbr d’heures Cotes sur 20\n",
    "TH/TP Année Examen\n",
    "Commande optimale 30/30 17 18\n",
    "Conception, system et télécommunication 30/15 14 12\n",
    "Ethique et déontologie professionnelle 15/- - 12\n",
    "Etude et gestion des projets 30/30 16 4\n",
    "Informatique à temps réel 30/30 17 16\n",
    "Interfaces humains – machines 15/15 10 16\n",
    "Intelligence artificielle 30/30 10 6\n",
    "Organes d’automatisme 30/30 14 11\n",
    "Organes des entreprises et comptabilité 30/30 16 13\n",
    "Sécurité informatique 15/15 13 12\n",
    "Programmation parallèle et orientée 30/30 12 14\n",
    "Systèmes de positionnement 30/15 14 11\n",
    "Travail de fin d’étude - - -\n",
    "RESULTAT FINAL : 65% - ADMIS AU MEMOIRE -\n",
    "\"\"\"\n",
    "\n",
    "def store_strings_in_csv(filename, number_of_strings):\n",
    "    with open(filename, mode='a', newline='', encoding='utf-8') as file:\n",
    "        writer = csv.writer(file)\n",
    "        for _ in range(number_of_strings):\n",
    "            string = jumble_words(text)\n",
    "            string = string.replace('\\n', ' ') \n",
    "            string = re.sub(' +', ' ', string)\n",
    "            writer.writerow([string]) \n",
    "\n",
    "            \n",
    "#stores 2500 record\n",
    "store_strings_in_csv('data/negative-8.csv', 5000)\n",
    "print(\"generated\")\n"
   ]
  },
  {
   "cell_type": "code",
   "execution_count": 30,
   "id": "070edb0f",
   "metadata": {},
   "outputs": [
    {
     "name": "stdout",
     "output_type": "stream",
     "text": [
      "generated\n"
     ]
    }
   ],
   "source": [
    "from wonderwords import RandomSentence\n",
    "import csv\n",
    "import re\n",
    "\n",
    "\n",
    "def store_strings_in_csv(filename, number_of_strings):\n",
    "    with open(filename, mode='w', newline='', encoding='utf-8') as file:\n",
    "        writer = csv.writer(file)\n",
    "        for _ in range(number_of_strings):\n",
    "            i=0\n",
    "            sentence =' '\n",
    "            s = RandomSentence()\n",
    "            for x in range(30):\n",
    "                sen = s.sentence()\n",
    "                sentence = sentence + str(sen) \n",
    "                sentence = sentence.replace('\\n', ' ') \n",
    "                sentence = re.sub(' +', ' ', sentence)\n",
    "            writer.writerow([sentence]) \n",
    "\n",
    "            \n",
    "#stores 2500 record\n",
    "store_strings_in_csv('data/negative-9.csv', 5000)\n",
    "print(\"generated\")"
   ]
  },
  {
   "cell_type": "code",
   "execution_count": null,
   "id": "22307bd1",
   "metadata": {},
   "outputs": [],
   "source": []
  }
 ],
 "metadata": {
  "kernelspec": {
   "display_name": "Python 3 (ipykernel)",
   "language": "python",
   "name": "python3"
  },
  "language_info": {
   "codemirror_mode": {
    "name": "ipython",
    "version": 3
   },
   "file_extension": ".py",
   "mimetype": "text/x-python",
   "name": "python",
   "nbconvert_exporter": "python",
   "pygments_lexer": "ipython3",
   "version": "3.11.5"
  }
 },
 "nbformat": 4,
 "nbformat_minor": 5
}
